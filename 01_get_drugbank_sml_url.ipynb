{
  "nbformat": 4,
  "nbformat_minor": 0,
  "metadata": {
    "colab": {
      "name": "01_get drugbank_sml_url.ipynb",
      "private_outputs": true,
      "provenance": [],
      "collapsed_sections": [],
      "authorship_tag": "ABX9TyOtLzpFx5+08PolD0v56reM",
      "include_colab_link": true
    },
    "kernelspec": {
      "name": "python3",
      "display_name": "Python 3"
    }
  },
  "cells": [
    {
      "cell_type": "markdown",
      "metadata": {
        "id": "view-in-github",
        "colab_type": "text"
      },
      "source": [
        "<a href=\"https://colab.research.google.com/github/sugarlin1732/RNN_Drug_property-/blob/main/01_get_drugbank_sml_url.ipynb\" target=\"_parent\"><img src=\"https://colab.research.google.com/assets/colab-badge.svg\" alt=\"Open In Colab\"/></a>"
      ]
    },
    {
      "cell_type": "code",
      "metadata": {
        "id": "RcqPiPcHmYJW"
      },
      "source": [
        "import requests\n",
        "import numpy as np\n",
        "import pandas as pd\n",
        "\n",
        "drug_dic = {}\n",
        "# get each drug page url from list\n",
        "last_page = int(requests.get('https://www.drugbank.ca/drugs').text.split('\\n')[-1].split('<li class=\"page-item last\">')[1].split('\">&raquo;')[0].replace('<a class=\"page-link\" href=\"/drugs?approved=1&amp;c=name&amp;d=up&amp;page=', ''))\n",
        "drug_id = []\n",
        "for page in range(last_page):\n",
        "    print(page+1)\n",
        "    page_lists = 'https://www.drugbank.ca/drugs?approved=1&c=name&d=up&page=' + str(page+1)\n",
        "    r1 = requests.get(page_lists)\n",
        "    if r1.status_code == requests.codes.ok:\n",
        "        temp = r1.text.split('/drugs/')[1:]\n",
        "        for i in temp:\n",
        "            drug_id.append(i.split('\"')[0])\n",
        "        \n",
        "print('total page: %d' %last_page)\n",
        "\n",
        "print('total %d drugs' %(len(drug_id)))\n",
        "\n",
        "# save drug id\n",
        "with open('./drugbank_id.txt', 'w') as o1:\n",
        "    for i in drug_id:\n",
        "        print(i, file=o1)"
      ],
      "execution_count": null,
      "outputs": []
    }
  ]
}