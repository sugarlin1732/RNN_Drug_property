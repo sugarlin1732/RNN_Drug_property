{
  "nbformat": 4,
  "nbformat_minor": 0,
  "metadata": {
    "colab": {
      "name": "03_create_PCsql.ipynb",
      "provenance": [],
      "collapsed_sections": [],
      "authorship_tag": "ABX9TyNfj4EHX+JYO4RzumSS/ITz",
      "include_colab_link": true
    },
    "kernelspec": {
      "name": "python3",
      "display_name": "Python 3"
    }
  },
  "cells": [
    {
      "cell_type": "markdown",
      "metadata": {
        "id": "view-in-github",
        "colab_type": "text"
      },
      "source": [
        "<a href=\"https://colab.research.google.com/github/sugarlin1732/RNN_Drug_property-/blob/main/03_create_PCsql.ipynb\" target=\"_parent\"><img src=\"https://colab.research.google.com/assets/colab-badge.svg\" alt=\"Open In Colab\"/></a>"
      ]
    },
    {
      "cell_type": "code",
      "metadata": {
        "id": "oqvYMWzUltmq",
        "colab": {
          "base_uri": "https://localhost:8080/"
        },
        "outputId": "f8863276-4466-4833-da92-839a2197c50e"
      },
      "source": [
        "!pip install PubChemPy"
      ],
      "execution_count": null,
      "outputs": [
        {
          "output_type": "stream",
          "text": [
            "Collecting PubChemPy\n",
            "  Downloading https://files.pythonhosted.org/packages/aa/fb/8de3aa9804b614dbc8dc5c16ed061d819cc360e0ddecda3dcd01c1552339/PubChemPy-1.0.4.tar.gz\n",
            "Building wheels for collected packages: PubChemPy\n",
            "  Building wheel for PubChemPy (setup.py) ... \u001b[?25l\u001b[?25hdone\n",
            "  Created wheel for PubChemPy: filename=PubChemPy-1.0.4-cp36-none-any.whl size=13826 sha256=1f5c51a911c04dcfc28e4196124d2b550a91880424d54e6f2922148c3c85c8df\n",
            "  Stored in directory: /root/.cache/pip/wheels/10/4d/51/6b843681a9a5aef35f0d0fbce243de46f85080036e16118752\n",
            "Successfully built PubChemPy\n",
            "Installing collected packages: PubChemPy\n",
            "Successfully installed PubChemPy-1.0.4\n"
          ],
          "name": "stdout"
        }
      ]
    },
    {
      "cell_type": "code",
      "metadata": {
        "id": "jFRZ82zfleKe"
      },
      "source": [
        "import os\n",
        "import pubchempy as pcp\n",
        "import time"
      ],
      "execution_count": null,
      "outputs": []
    },
    {
      "cell_type": "code",
      "metadata": {
        "id": "giQ8Bzb3lqsu",
        "colab": {
          "base_uri": "https://localhost:8080/"
        },
        "outputId": "ce70e001-0884-4e32-e4a6-84ae22285ea4"
      },
      "source": [
        "# connect to google drive\n",
        "from google.colab import  drive\n",
        "drive.mount('/content/drive')\n",
        "# change work dir\n",
        "path = '/content/drive/My Drive/Drug_RNN'\n",
        "os.chdir(path)"
      ],
      "execution_count": null,
      "outputs": [
        {
          "output_type": "stream",
          "text": [
            "Drive already mounted at /content/drive; to attempt to forcibly remount, call drive.mount(\"/content/drive\", force_remount=True).\n"
          ],
          "name": "stdout"
        }
      ]
    },
    {
      "cell_type": "code",
      "metadata": {
        "id": "ZgEI4V0DSfj0",
        "colab": {
          "base_uri": "https://localhost:8080/"
        },
        "outputId": "989d4286-a226-475e-b9b6-823d180d289b"
      },
      "source": [
        "# get pubchem drug data\n",
        "if not os.path.exists('./pc_data'):\n",
        "    os.makedirs('./pc_data')\n",
        "\n",
        "# get compound cid from query results\n",
        "dir_list = os.listdir('./pc_query')\n",
        "drug_list = []\n",
        "for files in dir_list:\n",
        "    with open('./pc_query/'+files, 'r') as file1:\n",
        "        for line in file1.readlines():\n",
        "            drug_list.append(int(line.replace('\\n', '')))\n",
        "drug_list = list(set(drug_list))\n",
        "drug_list.sort()\n",
        "\n",
        "# get compound data\n",
        "counter = 1\n",
        "time_start = time.time()\n",
        "for id in drug_list:\n",
        "    if counter % 1000 == 0:\n",
        "        print(counter)\n",
        "    try:\n",
        "        drug = pcp.Compound.from_cid(id)\n",
        "        prop = drug.to_dict(properties=['iupac_name', 'molecular_weight', 'canonical_smiles'])\n",
        "        with open('./pc_data/'+str(id)+'.txt', 'w', encoding='utf-8') as o1:\n",
        "            print('PubChem_CID', id, sep='\\t', file=o1)\n",
        "            print('MolecularWeight', prop['molecular_weight'], sep='\\t', file=o1)\n",
        "            print('IUPAC', prop['iupac_name'], sep='\\t', file=o1)\n",
        "            print('SMILES', prop['canonical_smiles'], sep='\\t', file=o1)\n",
        "    except:\n",
        "        pass\n",
        "    counter += 1\n",
        "print('complete!!')\n",
        "time_cost = (time.time()-time_start)//60\n",
        "print('Cost '+str(time_cost)+' minutes')"
      ],
      "execution_count": null,
      "outputs": [
        {
          "output_type": "stream",
          "text": [
            "1000\n",
            "2000\n",
            "3000\n",
            "4000\n",
            "5000\n",
            "6000\n",
            "7000\n",
            "8000\n",
            "9000\n",
            "10000\n",
            "11000\n",
            "12000\n",
            "13000\n",
            "14000\n",
            "15000\n",
            "16000\n",
            "17000\n",
            "18000\n",
            "19000\n",
            "20000\n",
            "21000\n",
            "22000\n",
            "23000\n",
            "complete!!\n",
            "Cost 164.0 minutes\n"
          ],
          "name": "stdout"
        }
      ]
    }
  ]
}