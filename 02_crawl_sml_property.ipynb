{
  "nbformat": 4,
  "nbformat_minor": 0,
  "metadata": {
    "colab": {
      "name": "02_crawl_sml_property.ipynb",
      "provenance": [],
      "collapsed_sections": [],
      "authorship_tag": "ABX9TyPvqGldvH0o8eMRhnwzzU++",
      "include_colab_link": true
    },
    "kernelspec": {
      "name": "python3",
      "display_name": "Python 3"
    }
  },
  "cells": [
    {
      "cell_type": "markdown",
      "metadata": {
        "id": "view-in-github",
        "colab_type": "text"
      },
      "source": [
        "<a href=\"https://colab.research.google.com/github/sugarlin1732/RNN_Drug_property-/blob/main/02_crawl_sml_property.ipynb\" target=\"_parent\"><img src=\"https://colab.research.google.com/assets/colab-badge.svg\" alt=\"Open In Colab\"/></a>"
      ]
    },
    {
      "cell_type": "code",
      "metadata": {
        "id": "eC87_v5Am8TF"
      },
      "source": [
        "import os\n",
        "from os import sep\n",
        "import requests\n",
        "from bs4 import BeautifulSoup\n",
        "import re\n",
        "import time\n",
        "import numpy as np\n",
        "import pandas as pd"
      ],
      "execution_count": null,
      "outputs": []
    },
    {
      "cell_type": "code",
      "metadata": {
        "id": "Klf8FhVaoEp3",
        "colab": {
          "base_uri": "https://localhost:8080/",
          "height": 35
        },
        "outputId": "39b298aa-bfdb-483c-936f-cf043ae268bd"
      },
      "source": [
        "# connect to google drive\n",
        "from google.colab import  drive\n",
        "drive.mount('/content/drive')\n",
        "# change work dir\n",
        "path = '/content/drive/My Drive/Drug_RNN'\n",
        "os.chdir(path)"
      ],
      "execution_count": null,
      "outputs": [
        {
          "output_type": "stream",
          "text": [
            "Drive already mounted at /content/drive; to attempt to forcibly remount, call drive.mount(\"/content/drive\", force_remount=True).\n"
          ],
          "name": "stdout"
        }
      ]
    },
    {
      "cell_type": "code",
      "metadata": {
        "id": "NgeuPRisKxD3",
        "colab": {
          "base_uri": "https://localhost:8080/",
          "height": 35
        },
        "outputId": "f8bd6010-4231-4823-f1cb-a2425f3c4448"
      },
      "source": [
        "#######################################################################\n",
        "headers = {'User-Agent':'Mozilla/5.0 (Macintosh; Intel Mac OS X 10_15_4) AppleWebKit/537.36 (KHTML, like Gecko) Chrome/83.0.4103.97 Safari/537.36'}\n",
        "# load drug id\n",
        "with open('./drugbank_id.txt', 'r') as file1:\n",
        "    id_list = [i.replace('\\n', '') for i in file1]\n",
        "\n",
        "drug_dic = {}\n",
        "counter = 1\n",
        "\n",
        "prop_name = ['Absorption', 'Distribution', 'ProteinBinding', 'Metabolism', 'RouteOfElimination', 'Halflife', 'Clearance', 'Toxicity', 'AffectedOrganism', 'FoodInteraction', 'Unii', 'CASnumber', 'InChIKey', 'InChI', 'IUPAC', 'State']\n",
        "prop_id = ['absorption', 'volume-of-distribution', 'protein-binding', 'metabolism', 'route-of-elimination', 'half-life', 'clearance', 'toxicity', 'affected-organisms', 'food-interactions', 'unii', 'cas-number', 'inchi-key', 'inchi', 'iupac-name', 'state']\n",
        "\n",
        "# crawl drug property data from DrugBank\n",
        "if not os.path.exists('./data'):\n",
        "    os.makedirs('./data')\n",
        "counter = 1\n",
        "for drug in id_list[2000:]:\n",
        "    print(counter, '\\r', end='')\n",
        "    # print(counter, drug, '\\r', end='')\n",
        "    url = 'https://go.drugbank.com/drugs/' + drug\n",
        "    r1 = requests.get(url, headers=headers).text\n",
        "    soup = BeautifulSoup(r1, 'lxml')\n",
        "\n",
        "    prop_list = []\n",
        "\n",
        "    with open('./data/'+drug+'.txt', 'w', encoding='utf-8') as o1:\n",
        "        print('DrugBankID', soup.find('dt', class_='col-xl-2 col-md-3 col-sm-4 pl-xl-2', id='accession-number').find_next_siblings()[0].string, sep='\\t', file=o1)\n",
        "        \n",
        "        try:\n",
        "            weight_tmp = soup.find('dt', class_='col-xl-4 col-md-3 col-sm-4 pl-xl-2', id='weight').find_next_siblings()[0].text.split(' Monoisotopic: ')\n",
        "            print('AverageWeight', weight_tmp[0].lstrip('Average: '), sep='\\t', file=o1)\n",
        "            print('MonoisotopicWeight', weight_tmp[-1].rstrip(' '), sep='\\t', file=o1)\n",
        "        except:\n",
        "            pass\n",
        "\n",
        "        for i in range(len(prop_name)):\n",
        "            try:\n",
        "                print(prop_name[i], soup.find('dt', class_='col-xl-2 col-md-3 col-sm-4', id = prop_id[i]).find_next_siblings()[0].text.rstrip('\\n').lstrip('\\n').replace('\\n', '; '), sep='\\t', file=o1)\n",
        "            except:\n",
        "                pass\n",
        "                \n",
        "        try:\n",
        "            result = soup.find('table', id='experimental-properties')\n",
        "            expp_tmp = []\n",
        "            for i in result.find_all('tr'):\n",
        "                for j in i.find_all('td'):\n",
        "                    expp_tmp.append(j.text)\n",
        "            for i in range(len(expp_tmp)//3):\n",
        "                print('ExpProp_'+expp_tmp[i*3], expp_tmp[i*3+1], sep='\\t', file=o1)\n",
        "        except:\n",
        "            pass\n",
        "\n",
        "        try:\n",
        "            result = soup.find('table', id='drug-moldb-properties')\n",
        "            prep_tmp = []\n",
        "            for i in result.find_all('tr'):\n",
        "                for j in i.find_all('td'):\n",
        "                    prep_tmp.append(j.text)\n",
        "            for i in range(len(prep_tmp)//3):\n",
        "                print('PredProp_'+prep_tmp[i*3]+'_'+prep_tmp[i*3+2], prep_tmp[i*3+1], sep='\\t', file=o1)\n",
        "        except:\n",
        "            pass\n",
        "\n",
        "        try:\n",
        "            result = soup.find('table', id='drug-predicted-admet')\n",
        "            preadmet_tmp = []\n",
        "            for i in result.find_all('tr'):\n",
        "                for j in i.find_all('td'):\n",
        "                    preadmet_tmp.append(j.text)\n",
        "            for i in range(len(preadmet_tmp)//3):\n",
        "                print('PredADMET_'+preadmet_tmp[i*3], preadmet_tmp[i*3+1], preadmet_tmp[i*3+2], sep='\\t', file=o1)\n",
        "        except:\n",
        "            pass\n",
        "\n",
        "    counter += 1\n",
        "    time.sleep(20)\n",
        "print('Complete!')"
      ],
      "execution_count": null,
      "outputs": [
        {
          "output_type": "stream",
          "text": [
            "Complete!\n"
          ],
          "name": "stdout"
        }
      ]
    },
    {
      "cell_type": "code",
      "metadata": {
        "id": "1czuILlY3kIx"
      },
      "source": [
        "# DrugBankID              soup.find('dt', class_='col-xl-2 col-md-3 col-sm-4 pl-xl-2', id='accession-number').find_next_siblings()[0].string\n",
        "\n",
        "# result = soup.find('dt', class_='col-xl-4 col-md-3 col-sm-4 pl-xl-2', id='weight').find_next_siblings()[0].text.split(' Monoisotopic: ')\n",
        "# AverageWeight           result[0].lstrip('Average: ')\n",
        "# MonoisotopicWeight      result[-1].rstrip(' ')\n",
        "\n",
        "# Absorption              result = soup.find('dt', class_='col-xl-2 col-md-3 col-sm-4', id='absorption').find_next_siblings()[0].text\n",
        "# Distribution            result = soup.find('dt', class_='col-xl-2 col-md-3 col-sm-4', id='volume-of-distribution').find_next_siblings()[0].text\n",
        "# ProteinBinding          result = soup.find('dt', class_='col-xl-2 col-md-3 col-sm-4', id='protein-binding').find_next_siblings()[0].text\n",
        "# Metabolism              result = soup.find('dt', class_='col-xl-2 col-md-3 col-sm-4', id='metabolism').find_next_siblings()[0].text\n",
        "# RouteOfElimination      result = soup.find('dt', class_='col-xl-2 col-md-3 col-sm-4', id='route-of-elimination').find_next_siblings()[0].text\n",
        "# Halflife                result = soup.find('dt', class_='col-xl-2 col-md-3 col-sm-4', id='half-life').find_next_siblings()[0].text\n",
        "# Clearance               result = soup.find('dt', class_='col-xl-2 col-md-3 col-sm-4', id='clearance').find_next_siblings()[0].text\n",
        "# Toxicity                result = soup.find('dt', class_='col-xl-2 col-md-3 col-sm-4', id='toxicity').find_next_siblings()[0].text\n",
        "# AffectedOrganism        result = soup.find('dt', class_='col-xl-2 col-md-3 col-sm-4', id='affected-organisms').find_next_siblings()[0].text\n",
        "# FoodInteraction         result = soup.find('dt', class_='col-xl-2 col-md-3 col-sm-4', id='food-interactions').find_next_siblings()[0].text\n",
        "# Unii                    result = soup.find('dt', class_='col-xl-2 col-md-3 col-sm-4', id='unii').find_next_siblings()[0].text\n",
        "# CASnumber               result = soup.find('dt', class_='col-xl-2 col-md-3 col-sm-4', id='cas-number').find_next_siblings()[0].text\n",
        "# InChIKey                result = soup.find('dt', class_='col-xl-2 col-md-3 col-sm-4', id='inchi-key').find_next_siblings()[0].text\n",
        "# InChI                   result = soup.find('dt', class_='col-xl-2 col-md-3 col-sm-4', id='inchi').find_next_siblings()[0].text\n",
        "# IUPAC                   result = soup.find('dt', class_='col-xl-2 col-md-3 col-sm-4', id='iupac-name').find_next_siblings()[0].text\n",
        "# State                   result = soup.find('dt', class_='col-xl-2 col-md-3 col-sm-4', id='state').find_next_siblings()[0].text\n",
        "\n",
        "# ExpProp                 result = soup.find('table', id='experimental-properties')\n",
        "#                             for i in result.find_all('tr'):\n",
        "#                                 for j in i.find_all('td'):\n",
        "#                                     print(j.text)\n",
        "# PredProp_               result = soup.find('table', id='drug-moldb-properties')\n",
        "#                             for i in result.find_all('tr'):\n",
        "#                                 for j in i.find_all('td'):\n",
        "#                                     print(j.text)\n",
        "# PredADMET_               result = soup.find('table', id='drug-predicted-admet')\n",
        "#                             for i in result.find_all('tr'):\n",
        "#                                 for j in i.find_all('td'):\n",
        "#                                     print(j.text)\n",
        "\n"
      ],
      "execution_count": null,
      "outputs": []
    }
  ]
}